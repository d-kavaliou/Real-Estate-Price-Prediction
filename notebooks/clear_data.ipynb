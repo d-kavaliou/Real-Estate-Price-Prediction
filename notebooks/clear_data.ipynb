{
 "cells": [
  {
   "cell_type": "code",
   "execution_count": 73,
   "metadata": {
    "collapsed": true
   },
   "outputs": [],
   "source": [
    "import re\n",
    "import json\n",
    "\n",
    "import numpy as np\n",
    "import pandas as pd\n",
    "\n",
    "import matplotlib.pyplot as plt\n",
    "import seaborn as sns\n",
    "%matplotlib inline\n",
    "\n",
    "from helpers.geo_helper import GeoPoint\n",
    "\n",
    "pd.set_option('display.max_rows', 500)\n",
    "pd.set_option('display.max_columns', 500)\n",
    "pd.set_option('display.width', 1000)\n",
    "\n",
    "plt.rcParams['figure.figsize']=(12,6)"
   ]
  },
  {
   "cell_type": "code",
   "execution_count": 69,
   "metadata": {},
   "outputs": [],
   "source": [
    "data = pd.read_csv('./data/data-example.csv', index_col=0)"
   ]
  },
  {
   "cell_type": "markdown",
   "metadata": {},
   "source": [
    "## Drop out extra columns\n",
    "\n",
    "The columns with a big percentage of null values. They cannot be useful for us."
   ]
  },
  {
   "cell_type": "code",
   "execution_count": 12,
   "metadata": {},
   "outputs": [],
   "source": [
    "extra_columns = ['УНП',\n",
    "                 'Район (области)',\n",
    "                 'Специалист',\n",
    "                 'Число спальных мест',\n",
    "                 'Направление',\n",
    "                 'На Новый год',\n",
    "                 'Вид этажа',\n",
    "                 'Год кап.ремонта',\n",
    "                 'Услуга агентства',\n",
    "                 'Срок сдачи',\n",
    "                 'Условия сдачи',\n",
    "                 'Населенный пункт',\n",
    "                 'Предоплата'\n",
    "                 ]\n",
    "\n",
    "data.drop(extra_columns, axis=1, inplace=True)"
   ]
  },
  {
   "cell_type": "markdown",
   "metadata": {},
   "source": [
    "## Fill in N/A values"
   ]
  },
  {
   "cell_type": "code",
   "execution_count": 14,
   "metadata": {},
   "outputs": [],
   "source": [
    "data['description'].fillna('', inplace=True)\n",
    "data['Дополнительно'].fillna('', inplace=True)\n",
    "data['Примечания'].fillna('', inplace=True)\n",
    "data['photos'].fillna(0, inplace=True)\n",
    "data['Агентство'].fillna(\"нет\", inplace=True)\n",
    "data['Балкон'].fillna(\"нет\", inplace=True)\n",
    "data['Бытовая техника'].fillna('', inplace=True)\n",
    "data['Телефон'].fillna('нет', inplace=True)\n",
    "data['Мебель'].fillna('нет', inplace=True)\n",
    "data['Метро'].fillna('нет', inplace=True)\n",
    "data['Плита'].fillna('Пропуск', inplace=True)\n",
    "data['Ремонт'].fillna('Пропуск', inplace=True)\n",
    "data['Этаж / этажность'].fillna('0 / 0', inplace=True)\n",
    "data['Соседи по квартире'].fillna('нет', inplace=True)"
   ]
  },
  {
   "cell_type": "markdown",
   "metadata": {},
   "source": [
    "## Price"
   ]
  },
  {
   "cell_type": "code",
   "execution_count": 15,
   "metadata": {},
   "outputs": [],
   "source": [
    "# Remove rows without price\n",
    "data.drop(data[data['price_usa'] == 'Цена договорная'].index, inplace=True)"
   ]
  },
  {
   "cell_type": "code",
   "execution_count": 16,
   "metadata": {},
   "outputs": [],
   "source": [
    "def clean_price(price):\n",
    "    return int(''.join(re.findall(r'\\d+', re.sub(r'[,.]\\d+', ' ', price))))\n",
    "\n",
    "data['price_usa'] = data['price_usa'].apply(clean_price)\n",
    "data['price_local'] = data['price_local'].apply(clean_price)"
   ]
  },
  {
   "cell_type": "code",
   "execution_count": 17,
   "metadata": {},
   "outputs": [
    {
     "data": {
      "text/plain": [
       "<matplotlib.axes._subplots.AxesSubplot at 0xd8f8910>"
      ]
     },
     "execution_count": 17,
     "metadata": {},
     "output_type": "execute_result"
    },
    {
     "data": {
      "image/png": "[encoded data removed]",
      "text/plain": [
       "<matplotlib.figure.Figure at 0xd8fad10>"
      ]
     },
     "metadata": {},
     "output_type": "display_data"
    }
   ],
   "source": [
    "data['price_usa'].hist(bins=30)"
   ]
  },
  {
   "cell_type": "markdown",
   "metadata": {},
   "source": [
    "## Location\n",
    "\n",
    "We will proceed only with Minsk records"
   ]
  },
  {
   "cell_type": "code",
   "execution_count": 18,
   "metadata": {},
   "outputs": [],
   "source": [
    "CITY_TOP_LONGITUDE = 27.3\n",
    "CITY_BOTTOM_LONGITUDE = 27.8\n",
    "\n",
    "data.drop(data[(data['longitude'] > CITY_BOTTOM_LONGITUDE) | (data['longitude'] < CITY_TOP_LONGITUDE)].index, \n",
    "          inplace=True)"
   ]
  },
  {
   "cell_type": "markdown",
   "metadata": {},
   "source": [
    "## Neighbors"
   ]
  },
  {
   "cell_type": "code",
   "execution_count": 19,
   "metadata": {},
   "outputs": [],
   "source": [
    "data.drop(data[data['Соседи по квартире'] != 'нет'].index, inplace=True)"
   ]
  },
  {
   "cell_type": "markdown",
   "metadata": {},
   "source": [
    "## Rooms"
   ]
  },
  {
   "cell_type": "code",
   "execution_count": 20,
   "metadata": {},
   "outputs": [],
   "source": [
    "data['rooms'] = data['kv'].apply(lambda kv: 0 if kv.split('/')[0] == ' к' else int(kv.split('/')[0]))"
   ]
  },
  {
   "cell_type": "markdown",
   "metadata": {},
   "source": [
    "## Living area"
   ]
  },
  {
   "cell_type": "code",
   "execution_count": 21,
   "metadata": {},
   "outputs": [],
   "source": [
    "data['total_area'] = data['area'].apply(lambda area: int(''.join(re.findall(r'\\w+', area.split('/')[0]))))\n",
    "data['living_area'] = data['area'].apply(lambda area: int(area.split('/')[1]))\n",
    "data['kitchen_area'] = data['area'].apply(lambda area: int(area.split('/')[2]))\n",
    "\n",
    "# Replace zero values in total_area with the median value of the apartments with the same number of rooms\n",
    "for area in ['total_area', 'living_area', 'kitchen_area']:\n",
    "    data.loc[data[(data[area]==0)].index, area] = data[(data[area] == 0)].merge(\n",
    "        data.groupby(by='rooms').agg(\n",
    "            [np.mean, np.min, np.max, np.median]\n",
    "        )[area].reset_index(),\n",
    "        on='rooms'\n",
    "    )['median']\n",
    "\n",
    "# Drop out rows outside city\n",
    "data = data[(data['total_area'] <= 300) & (data['rooms'] != 0)]\n",
    "\n",
    "# Fill in with the median\n",
    "data['living_area'].fillna(data['living_area'].median(), inplace=True)\n",
    "data['kitchen_area'].fillna(data['kitchen_area'].median(), inplace=True)"
   ]
  },
  {
   "cell_type": "markdown",
   "metadata": {},
   "source": [
    "## Balcony"
   ]
  },
  {
   "cell_type": "code",
   "execution_count": 22,
   "metadata": {},
   "outputs": [],
   "source": [
    "def get_numb_balcony(text):\n",
    "    if text == 'нет':\n",
    "        return 0\n",
    "    elif text.split()[0] in ['лоджия', 'балкон']:\n",
    "        return 1\n",
    "    else:\n",
    "        return 2\n",
    "    \n",
    "data['Балкон'] = data['Балкон'].apply(get_numb_balcony)"
   ]
  },
  {
   "cell_type": "markdown",
   "metadata": {},
   "source": [
    "## Furniture"
   ]
  },
  {
   "cell_type": "code",
   "execution_count": 23,
   "metadata": {},
   "outputs": [],
   "source": [
    "# Consider that partially installed furniture means no furniture\n",
    "data['Мебель'].replace('частично', 'нет', inplace=True)\n",
    "data['Мебель'] = data['Мебель'].apply(lambda furniture: 0 if furniture == 'нет' else 1)"
   ]
  },
  {
   "cell_type": "markdown",
   "metadata": {},
   "source": [
    "## Phone"
   ]
  },
  {
   "cell_type": "code",
   "execution_count": 24,
   "metadata": {},
   "outputs": [],
   "source": [
    "data['Телефон'].replace({'нет': 0,\n",
    "                         'есть': 1,\n",
    "                         '2 телефона': 2}, \n",
    "                        inplace=True)"
   ]
  },
  {
   "cell_type": "markdown",
   "metadata": {},
   "source": [
    "## Kitchen stove"
   ]
  },
  {
   "cell_type": "code",
   "execution_count": 25,
   "metadata": {},
   "outputs": [],
   "source": [
    "data['Плита'].replace('Пропуск', 'электрическая', inplace=True)\n",
    "data['Плита'] = data['Плита'].apply(lambda plate: 0 if plate == 'газовая' else 1)"
   ]
  },
  {
   "cell_type": "markdown",
   "metadata": {},
   "source": [
    "## Appartment state"
   ]
  },
  {
   "cell_type": "code",
   "execution_count": 49,
   "metadata": {},
   "outputs": [],
   "source": [
    "# Apartment state:  good (1) or bad (0). \n",
    "data['Ремонт'] = data['Ремонт'].apply(lambda repair: 1 if repair in ['евроремонт', 'отличный ремонт'] else 0)"
   ]
  },
  {
   "cell_type": "markdown",
   "metadata": {},
   "source": [
    "## Is Owner"
   ]
  },
  {
   "cell_type": "code",
   "execution_count": 52,
   "metadata": {},
   "outputs": [],
   "source": [
    "data['Агентство'] = data['Агентство'].apply(lambda agent: 0 if agent == 'нет' else 1)"
   ]
  },
  {
   "cell_type": "markdown",
   "metadata": {},
   "source": [
    "## Photos"
   ]
  },
  {
   "cell_type": "code",
   "execution_count": 53,
   "metadata": {},
   "outputs": [],
   "source": [
    "data['photos_proc'] = data['photos'].clip(0, 25)"
   ]
  },
  {
   "cell_type": "markdown",
   "metadata": {},
   "source": [
    "## Building Type"
   ]
  },
  {
   "cell_type": "code",
   "execution_count": 54,
   "metadata": {},
   "outputs": [],
   "source": [
    "data['Тип дома'].fillna('Пропуск', inplace=True)\n",
    "data['Тип дома'].replace({'кб': 'каркасно-блочный',\n",
    "                          'КБ': 'каркасно-блочный',\n",
    "                          'сб': 'Пропуск',\n",
    "                          'бр': 'Пропуск',\n",
    "                          'монолитно-каркасный': 'монолитный'\n",
    "                          }, inplace=True)"
   ]
  },
  {
   "cell_type": "markdown",
   "metadata": {},
   "source": [
    "## Appliances"
   ]
  },
  {
   "cell_type": "code",
   "execution_count": 55,
   "metadata": {},
   "outputs": [],
   "source": [
    "def get_tech_from_descr(text):\n",
    "    result = []\n",
    "    text = text.lower()\n",
    "    \n",
    "    if 'душевая' in text:\n",
    "        result.append('душевая кабина')\n",
    "    if 'интернет' in text:\n",
    "        result.append('интернет')\n",
    "    if 'музыкальный центр' in text:\n",
    "        result.append('музыкальный центр')\n",
    "    if 'dvd' in text:\n",
    "        result.append('DVD-проигрыватель')\n",
    "    if 'кондиционер' in text:\n",
    "        result.append('кондиционер')\n",
    "    if 'посудомоечная' in text: \n",
    "        result.append('посудомоечная машина')\n",
    "    if 'джакузи' in text:\n",
    "        result.append('джакузи')\n",
    "    if any(tv in text for tv in ['телевизор', 'тв', 'телик']):\n",
    "        result.append('телевизор')\n",
    "    if 'свч' in text:\n",
    "        result.append('свч-печь')\n",
    "    if 'холодильник' in text:\n",
    "        result.append('холодильник')\n",
    "    if 'компьютер' in text:\n",
    "        result.append('компьютер')\n",
    "    if 'видеомагнитофон' in text:\n",
    "        result.append('видеомагнитофон')\n",
    "    if 'домашний кинотеатр' in text:\n",
    "        result.append('домашний кинотеатр')\n",
    "    if 'стиральная' in text:\n",
    "        result.append('стиральная машина')\n",
    "        \n",
    "    return ', '.join(result)"
   ]
  },
  {
   "cell_type": "code",
   "execution_count": 60,
   "metadata": {},
   "outputs": [],
   "source": [
    "# apply only for the records where appliances are not specified and description is not empty\n",
    "appliances_presented_selector = (data.description != '') & (data['Бытовая техника'] == '')\n",
    "\n",
    "data.loc[appliances_presented_selector, 'Бытовая техника'] = data.loc[appliances_presented_selector, 'description']\\\n",
    "                                                            .apply(get_tech_from_descr)"
   ]
  },
  {
   "cell_type": "markdown",
   "metadata": {},
   "source": [
    "## District"
   ]
  },
  {
   "cell_type": "code",
   "execution_count": 78,
   "metadata": {},
   "outputs": [],
   "source": [
    "geo_points = list(map(lambda point: GeoPoint(point[0], point[1]), data[['latitude', 'longitude']].values))"
   ]
  },
  {
   "cell_type": "code",
   "execution_count": null,
   "metadata": {},
   "outputs": [],
   "source": [
    "geo_points = data.apply(lambda row: GeoPoint(row['latitude'], row['longitude']), axis=1).values"
   ]
  },
  {
   "cell_type": "markdown",
   "metadata": {},
   "source": [
    "## Undeground Station"
   ]
  },
  {
   "cell_type": "code",
   "execution_count": null,
   "metadata": {},
   "outputs": [],
   "source": [
    "data['Станция метро'] = data.apply(lambda row: GeoPoint(row['latitude'], row['longitude']).get_city_sub_region(), axis=1)"
   ]
  }
 ],
 "metadata": {
  "kernelspec": {
   "display_name": "Python 2",
   "language": "python",
   "name": "python2"
  },
  "language_info": {
   "codemirror_mode": {
    "name": "ipython",
    "version": 2.0
   },
   "file_extension": ".py",
   "mimetype": "text/x-python",
   "name": "python",
   "nbconvert_exporter": "python",
   "pygments_lexer": "ipython2",
   "version": "2.7.6"
  }
 },
 "nbformat": 4,
 "nbformat_minor": 0
}